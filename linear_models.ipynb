{
  "nbformat": 4,
  "nbformat_minor": 0,
  "metadata": {
    "colab": {
      "provenance": [],
      "collapsed_sections": [
        "dJJ8GPeBda0u"
      ],
      "authorship_tag": "ABX9TyNtp2CteZwU47CSMSy690Q5",
      "include_colab_link": true
    },
    "kernelspec": {
      "name": "python3",
      "display_name": "Python 3"
    },
    "language_info": {
      "name": "python"
    }
  },
  "cells": [
    {
      "cell_type": "markdown",
      "metadata": {
        "id": "view-in-github",
        "colab_type": "text"
      },
      "source": [
        "<a href=\"https://colab.research.google.com/github/issmythe/intepretable-ai-crops/blob/main/linear_models.ipynb\" target=\"_parent\"><img src=\"https://colab.research.google.com/assets/colab-badge.svg\" alt=\"Open In Colab\"/></a>"
      ]
    },
    {
      "cell_type": "markdown",
      "source": [
        "# Setup"
      ],
      "metadata": {
        "id": "dJJ8GPeBda0u"
      }
    },
    {
      "cell_type": "code",
      "execution_count": null,
      "metadata": {
        "colab": {
          "base_uri": "https://localhost:8080/"
        },
        "cellView": "form",
        "id": "yxOy0PVRdT10",
        "outputId": "cfae9175-3203-45eb-8663-7d8e230848d1"
      },
      "outputs": [
        {
          "output_type": "stream",
          "name": "stdout",
          "text": [
            "Mounted at /content/drive\n"
          ]
        }
      ],
      "source": [
        "#@title Mount drive\n",
        "from google.colab import drive\n",
        "drive.mount('/content/drive')\n"
      ]
    },
    {
      "cell_type": "code",
      "execution_count": null,
      "metadata": {
        "cellView": "form",
        "id": "AS1b1v2vmAIQ"
      },
      "outputs": [],
      "source": [
        "#@title Imports\n",
        "! pip install kaleido &> /dev/null\n",
        "\n",
        "import sys\n",
        "sys.path.append('drive/MyDrive/current_research_projects/utils/')\n",
        "\n",
        "import importlib\n",
        "import math\n",
        "import os\n",
        "import pickle\n",
        "import random\n",
        "import time\n",
        "\n",
        "import numpy as np\n",
        "import pandas as pd\n",
        "\n",
        "# Analysis\n",
        "from datetime import datetime, timedelta\n",
        "from scipy.stats import pearsonr\n",
        "\n",
        "from sklearn import linear_model\n",
        "from sklearn.decomposition import PCA\n",
        "from sklearn.linear_model import LinearRegression\n",
        "from sklearn.preprocessing import StandardScaler\n",
        "\n",
        "import statsmodels.formula.api as smf\n",
        "from statsmodels.iolib.summary2 import summary_col\n",
        "from statsmodels.regression.linear_model import OLSResults\n",
        "\n",
        "# Plotting\n",
        "import matplotlib\n",
        "import plotly\n",
        "import seaborn as sns\n",
        "import matplotlib.pyplot as plt\n",
        "import plotly.graph_objects as go\n",
        "import plotly.express as px\n",
        "from plotly import subplots\n",
        "\n",
        "# Utils\n",
        "from read_data import get_max_vi, get_modis_vi, get_sif, get_weather, get_yields\n"
      ]
    },
    {
      "cell_type": "code",
      "execution_count": null,
      "metadata": {
        "cellView": "form",
        "colab": {
          "base_uri": "https://localhost:8080/"
        },
        "id": "ONy6zJphxsOJ",
        "outputId": "c3495d72-ceff-4fb5-ff9f-a95f56a54056"
      },
      "outputs": [
        {
          "output_type": "stream",
          "name": "stdout",
          "text": [
            "mkdir: cannot create directory ‘drive/MyDrive/current_research_projects/heat_separability/202407/’: File exists\n"
          ]
        }
      ],
      "source": [
        "#@title Constants\n",
        "END_YEAR_INC = 2021\n",
        "\n",
        "DATA_PATH = 'drive/MyDrive/current_research_projects/us_data/'\n",
        "DL_DATA_PATH = 'drive/MyDrive/current_research_projects/dl_yield_forecasts/data/'\n",
        "HEAT_DATA_PATH = 'drive/MyDrive/current_research_projects/heat_separability/data/'\n",
        "\n",
        "FIG_PATH = 'drive/MyDrive/current_research_projects/heat_separability/%s/' % datetime.today().strftime('%Y%m')\n",
        "! mkdir $FIG_PATH\n",
        "\n",
        "pd.options.mode.chained_assignment = None\n"
      ]
    },
    {
      "cell_type": "code",
      "source": [],
      "metadata": {
        "id": "wLkUloNhdhmz"
      },
      "execution_count": null,
      "outputs": []
    },
    {
      "cell_type": "markdown",
      "source": [
        "# Data"
      ],
      "metadata": {
        "id": "EFecsdyudkiI"
      }
    },
    {
      "cell_type": "code",
      "source": [
        "#@title Get yields\n",
        "yields = get_yields(2000, END_YEAR_INC, True).drop('Unnamed: 0', axis=1)\n",
        "yields['fips'] = yields['fips'].apply(int)\n"
      ],
      "metadata": {
        "cellView": "form",
        "id": "2dYQZC_GdnlF"
      },
      "execution_count": null,
      "outputs": []
    },
    {
      "cell_type": "code",
      "source": [
        "#@title Get folds\n",
        "random.seed(123)\n",
        "years = [x for x in range(2000, END_YEAR_INC + 1)]\n",
        "random.shuffle(years)\n",
        "FOLDS = np.array_split(years, 10)"
      ],
      "metadata": {
        "cellView": "form",
        "id": "owOT2AJydn1F"
      },
      "execution_count": null,
      "outputs": []
    },
    {
      "cell_type": "code",
      "source": [],
      "metadata": {
        "id": "gh0uyFJ3UU0D"
      },
      "execution_count": null,
      "outputs": []
    },
    {
      "cell_type": "code",
      "source": [
        "#@title Degree days and dummy cols\n",
        "fixed_ddays_m = pd.read_csv(f'{DATA_PATH}/weather/processed/march_through_aug_31_states.csv')\\\n",
        "    .rename({'cum10C': '10C_total', 'cum29C': '29C_total', 'cum_prec': 'prec_total'}, axis=1)\n",
        "fixed_ddays_a = pd.read_csv(f'{DATA_PATH}/weather/processed/april_through_sept_31_states.csv')\\\n",
        "    .rename({'cum10C': '10C_total', 'cum29C': '29C_total', 'cum_prec': 'prec_total'}, axis=1)\n",
        "\n",
        "date_ddays = pd.read_csv(f'{DATA_PATH}/weather/processed/usda_day_of_year_full.csv')\n",
        "keep_cols = ['fips', 'year', 'state', '10C_total', '29C_total', 'prec_total']\n",
        "no_usda = fixed_ddays_m[fixed_ddays_m['state'].isin([12, 13, 45])]\n",
        "date_ddays = pd.concat([date_ddays[keep_cols], no_usda[keep_cols]])\n",
        "\n",
        "aug_data = pd.get_dummies(yields, columns=['fips', 'state']).assign(\n",
        "        fips=yields['fips'], state=yields['state'])\n",
        "\n",
        "state_cols = [x for x in aug_data.columns if x.startswith('state_')]\n",
        "for c in state_cols:\n",
        "    aug_data[f'{c}_tt'] = aug_data[c] * (aug_data['year'] - aug_data['year'].min())\n",
        "    aug_data[f'{c}_2tt'] = aug_data[f'{c}_tt'] ** 2\n",
        "\n"
      ],
      "metadata": {
        "id": "XKaJ688rdnn0",
        "cellView": "form"
      },
      "execution_count": null,
      "outputs": []
    },
    {
      "cell_type": "code",
      "source": [
        "#@title Shared helpers\n",
        "def get_rmse(x, y):\n",
        "    return ((x - y) ** 2).mean() ** 0.5\n",
        "\n",
        "def get_corr(x, y):\n",
        "    return pearsonr(x, y)[0]\n",
        "\n",
        "def get_r2(x, y):\n",
        "    return get_corr(x, y) ** 2\n",
        "\n",
        "def quick_summarize(df, name=''):\n",
        "    print(name, len(df),\n",
        "          round(get_rmse(df['log_yield'], df['pred']), 3),\n",
        "          round(get_corr(df['log_yield'], df['pred']), 3))\n",
        "\n",
        "\n",
        "month_names = ['Jan', 'Feb', 'March', 'April', 'May', 'June',\n",
        "               'July', 'Aug', 'Sept', 'Oct', 'Nov', 'Dec']\n",
        "labels = pd.DataFrame({\n",
        "     'doy': [pd.to_datetime(f'2023-{str(i + 1).zfill(2)}-01').dayofyear for i in range(12)],\n",
        "     'label': month_names})\n",
        "\n",
        "fips_to_state = lambda x: int(str(x).zfill(5)[:2])\n"
      ],
      "metadata": {
        "cellView": "form",
        "id": "eAgqTCVednyX"
      },
      "execution_count": null,
      "outputs": []
    },
    {
      "cell_type": "code",
      "source": [],
      "metadata": {
        "id": "Fa0M3cq4jWCk"
      },
      "execution_count": null,
      "outputs": []
    },
    {
      "cell_type": "markdown",
      "source": [
        "# Helpers"
      ],
      "metadata": {
        "id": "mGVM-4D5dh0W"
      }
    },
    {
      "cell_type": "code",
      "source": [
        "#@title Prediction helpers\n",
        "def make_reg_df(dday_df):\n",
        "    return dday_df.assign(prec2_total=dday_df['prec_total'] ** 2).merge(aug_data)\n",
        "\n",
        "\n",
        "def split_ex_years(df, ex_years):\n",
        "    return df[~df['year'].isin(ex_years)]\n",
        "\n",
        "\n",
        "def split_inc_years(df, inc_years):\n",
        "    return df[df['year'].isin(inc_years)]\n",
        "\n",
        "\n",
        "def get_weather_cols(): # TODO - constant?\n",
        "    return ['10C_total', '29C_total', 'prec_total', 'prec2_total']\n",
        "\n",
        "\n",
        "def get_tt_cols(train):\n",
        "    return [x for x in train.columns if 'tt' in x]\n",
        "\n",
        "\n",
        "def get_fips_cols(train):\n",
        "    fips = train[[x for x in train if x.startswith('fips_')]].sum().reset_index()\n",
        "    return fips.loc[fips[0] > 1, 'index'].to_list()[:-1]\n",
        "\n",
        "\n",
        "def get_reg_cols(train, inc_weather):\n",
        "    weather_cols = get_weather_cols() if inc_weather else []\n",
        "    return weather_cols + get_tt_cols(train) + get_fips_cols(train)\n",
        "\n",
        "\n",
        "def check_for_outf(outf, overwrite):\n",
        "    if outf and not overwrite:\n",
        "        try:\n",
        "            return pd.read_csv(f'{HEAT_DATA_PATH}/yield_predictions/{outf}.csv')\\\n",
        "                .groupby(['fips', 'year']).mean().reset_index()\n",
        "        except FileNotFoundError:\n",
        "            return None\n"
      ],
      "metadata": {
        "id": "X_SWPSSff8QE",
        "cellView": "form"
      },
      "execution_count": null,
      "outputs": []
    },
    {
      "cell_type": "code",
      "source": [
        "#@title Prediction main functions\n",
        "def predict_one_fold_helper(dday_df, test_years, col_fn):\n",
        "    df = make_reg_df(dday_df)\n",
        "    test = split_inc_years(df, test_years)\n",
        "    train = split_ex_years(df, test_years).sample(frac=1)\n",
        "\n",
        "    reg = linear_model.LinearRegression().fit(train[col_fn(train)], train['log_yield'])\n",
        "    test_preds = reg.predict(test[col_fn(train)])\n",
        "    return test[['year', 'fips', 'log_yield']].assign(pred=test_preds)\n",
        "\n",
        "\n",
        "def predict_one_fold_weather(dday_df, test_years):\n",
        "    return predict_one_fold_helper(dday_df, test_years, lambda train: get_reg_cols(train, True))\n",
        "\n",
        "\n",
        "def predict_one_fold_baseline(dday_df, test_years):\n",
        "    return predict_one_fold_helper(dday_df, test_years, lambda train: get_reg_cols(train, False))\n",
        "\n",
        "\n",
        "def predict_folds_helper(dday_df, folds, pred_fn, outf, overwrite, verbose):\n",
        "    results = check_for_outf(outf, overwrite)\n",
        "    if results is not None:\n",
        "        return results\n",
        "\n",
        "    results = []\n",
        "    for i in range(len(folds)):\n",
        "        results.append(pred_fn(dday_df, folds[i]))\n",
        "        if verbose:\n",
        "            print(i)\n",
        "    results = pd.concat(results)\n",
        "\n",
        "    if outf:\n",
        "        results.to_csv(f'{HEAT_DATA_PATH}/yield_predictions/{outf}.csv', index=False)\n",
        "\n",
        "    return results\n",
        "\n",
        "\n",
        "def predict_folds_weather(dday_df, folds, outf=None, overwrite=False, verbose=True):\n",
        "    return predict_folds_helper(dday_df, folds, predict_one_fold_weather, outf, overwrite, verbose)\n",
        "\n",
        "\n",
        "def predict_folds_baseline(folds, outf=None, overwrite=False, verbose=True):\n",
        "    return predict_folds_helper(\n",
        "        fixed_ddays_m, folds, predict_one_fold_baseline, outf, overwrite, verbose)\n"
      ],
      "metadata": {
        "cellView": "form",
        "id": "jezYAIDYha-4"
      },
      "execution_count": null,
      "outputs": []
    },
    {
      "cell_type": "code",
      "source": [],
      "metadata": {
        "id": "5aSzgKBu0hNr",
        "colab": {
          "base_uri": "https://localhost:8080/",
          "height": 35
        },
        "outputId": "aa904f2d-d9b6-4018-8ba7-6d33a0a63521"
      },
      "execution_count": null,
      "outputs": [
        {
          "output_type": "execute_result",
          "data": {
            "text/plain": [
              "'drive/MyDrive/current_research_projects/heat_separability/data/'"
            ],
            "application/vnd.google.colaboratory.intrinsic+json": {
              "type": "string"
            }
          },
          "metadata": {},
          "execution_count": 28
        }
      ]
    },
    {
      "cell_type": "markdown",
      "source": [
        "# Predictions"
      ],
      "metadata": {
        "id": "VHzc3PSoAuhP"
      }
    },
    {
      "cell_type": "code",
      "source": [
        "#@title 10-fold CV preds\n",
        "baseline_cv = predict_folds_baseline(FOLDS, outf='baseline_preds_31_states')\n",
        "march_cv = predict_folds_weather(fixed_ddays_m, FOLDS, outf='march_through_aug_31_states')\n",
        "april_cv = predict_folds_weather(fixed_ddays_a, FOLDS, outf='april_through_sept_31_states')\n",
        "doy_season_cv = predict_folds_weather(date_ddays, FOLDS, outf='doy_full_season_31_states')\n",
        "\n",
        "print('All years:')\n",
        "for df in [baseline_cv, march_cv, april_cv, doy_season_cv]:\n",
        "    quick_summarize(df)\n",
        "\n",
        "print('\\n2017-2021:')\n",
        "for df in [baseline_cv, march_cv, april_cv, doy_season_cv]:\n",
        "    quick_summarize(df[df['year'] >= 2017])\n"
      ],
      "metadata": {
        "colab": {
          "base_uri": "https://localhost:8080/"
        },
        "cellView": "form",
        "id": "_mQJUxskfGv_",
        "outputId": "76a4fe76-070f-4f62-f448-5295fbfc246b"
      },
      "execution_count": null,
      "outputs": [
        {
          "output_type": "stream",
          "name": "stdout",
          "text": [
            "All years:\n",
            " 33064 0.24 0.709\n",
            " 33064 0.203 0.803\n",
            " 33064 0.208 0.791\n",
            " 33064 0.201 0.806\n",
            "\n",
            "2017-2021:\n",
            " 6648 0.153 0.791\n",
            " 6648 0.153 0.795\n",
            " 6648 0.156 0.787\n",
            " 6648 0.149 0.802\n"
          ]
        }
      ]
    },
    {
      "cell_type": "code",
      "source": [
        "#@title Test periods preds (2017-2021)\n",
        "test_years = [x for x in range(2017, 2022)]\n",
        "\n",
        "baseline_test = predict_folds_baseline(\n",
        "    [test_years], outf='baseline_test_period', verbose=False, overwrite=True)\n",
        "march_test = predict_folds_weather(\n",
        "    fixed_ddays_m, [test_years], outf='march_test_period', verbose=False)\n",
        "april_test = predict_folds_weather(\n",
        "    fixed_ddays_a, [test_years], outf='april_test_period', verbose=False)\n",
        "doy_season_test = predict_folds_weather(\n",
        "    date_ddays, [test_years], outf='doy_season_test_period', verbose=False, overwrite=True)\n",
        "\n",
        "for df in [baseline_test, march_test, april_test, doy_season_test]:\n",
        "    quick_summarize(df)\n",
        "# gd"
      ],
      "metadata": {
        "colab": {
          "base_uri": "https://localhost:8080/"
        },
        "id": "1bsWUMlFfGnh",
        "outputId": "69beb32c-5267-4996-d4b3-82d77d0a6f5a"
      },
      "execution_count": null,
      "outputs": [
        {
          "output_type": "stream",
          "name": "stdout",
          "text": [
            "len fips: 1922\n",
            "len fips: 1922\n",
            "len fips: 1922\n",
            "len fips: 1922\n",
            " 6648 0.211 0.629\n",
            " 6648 0.209 0.606\n",
            " 6648 0.221 0.567\n",
            " 6648 0.215 0.587\n"
          ]
        }
      ]
    },
    {
      "cell_type": "code",
      "source": [],
      "metadata": {
        "id": "D7ERsEVI5G-9"
      },
      "execution_count": null,
      "outputs": []
    }
  ]
}