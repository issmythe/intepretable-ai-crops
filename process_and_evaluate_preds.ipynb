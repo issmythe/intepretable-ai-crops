{
  "nbformat": 4,
  "nbformat_minor": 0,
  "metadata": {
    "colab": {
      "provenance": [],
      "collapsed_sections": [
        "nv7AcNB-CzPp",
        "pvB8ZzYfC0_X"
      ]
    },
    "kernelspec": {
      "name": "python3",
      "display_name": "Python 3"
    },
    "language_info": {
      "name": "python"
    }
  },
  "cells": [
    {
      "cell_type": "markdown",
      "source": [
        "# Setup"
      ],
      "metadata": {
        "id": "nv7AcNB-CzPp"
      }
    },
    {
      "cell_type": "code",
      "execution_count": null,
      "metadata": {
        "cellView": "form",
        "id": "P-rSKk25BOni",
        "colab": {
          "base_uri": "https://localhost:8080/"
        },
        "outputId": "df3d5f9f-e027-4665-8b0e-9d4183bffa8d"
      },
      "outputs": [
        {
          "output_type": "stream",
          "name": "stdout",
          "text": [
            "Mounted at /content/drive\n"
          ]
        }
      ],
      "source": [
        "#@title Mount drive\n",
        "from google.colab import drive\n",
        "drive.mount('/content/drive')\n"
      ]
    },
    {
      "cell_type": "code",
      "execution_count": null,
      "metadata": {
        "id": "LPJhT-L3jUSq"
      },
      "outputs": [],
      "source": []
    },
    {
      "cell_type": "code",
      "source": [],
      "metadata": {
        "id": "o2ZCi_jXjjj5"
      },
      "execution_count": null,
      "outputs": []
    },
    {
      "cell_type": "code",
      "execution_count": null,
      "metadata": {
        "cellView": "form",
        "id": "AS1b1v2vmAIQ"
      },
      "outputs": [],
      "source": [
        "#@title Imports\n",
        "import sys\n",
        "import os\n",
        "import time\n",
        "\n",
        "import numpy as np\n",
        "import pandas as pd\n",
        "\n",
        "# Analysis\n",
        "from datetime import datetime, timedelta\n",
        "from scipy.stats import pearsonr\n",
        "\n",
        "# Plotting\n",
        "import matplotlib\n",
        "import plotly\n",
        "import seaborn as sns\n",
        "import matplotlib.pyplot as plt\n",
        "import plotly.graph_objects as go\n"
      ]
    },
    {
      "cell_type": "code",
      "execution_count": null,
      "metadata": {
        "cellView": "form",
        "id": "ONy6zJphxsOJ"
      },
      "outputs": [],
      "source": [
        "#@title Constants\n",
        "DATA_PATH = 'drive/MyDrive/current_research_projects/us_data/'\n",
        "DL_DATA_PATH = 'drive/MyDrive/current_research_projects/dl_yield_forecasts/data/'\n",
        "HEAT_DATA_PATH = 'drive/MyDrive/current_research_projects/heat_separability/data/'\n",
        "\n",
        "# HEAT_DATA_PATH = 'drive/MyDrive/research_ideas/heat_separability/data/'\n",
        "datestr = datetime.today().strftime('%Y%m')\n",
        "FIG_PATH = f'drive/MyDrive/current_research_projects/dl_yield_forecasts/figs/{datestr}/'\n",
        "! mkdir -p $FIG_PATH\n",
        "\n",
        "PROCESS_DATA = False"
      ]
    },
    {
      "cell_type": "code",
      "source": [
        "#@title Helpers\n",
        "def get_rmse(x, y):\n",
        "    return ((x - y) ** 2).mean() ** 0.5\n",
        "\n",
        "\n",
        "def get_corr(x, y):\n",
        "    return pearsonr(x, y)[0]\n",
        "\n",
        "\n",
        "def get_r2(x, y):\n",
        "    return get_corr(x, y) ** 2\n",
        "\n",
        "\n",
        "def quick_summarize(df, name=''):\n",
        "    print(name, len(df),\n",
        "          round(get_rmse(df['log_yield'], df['pred']), 6),\n",
        "          round(get_r2(df['log_yield'], df['pred']), 3))\n"
      ],
      "metadata": {
        "id": "IndFmM6Y8gHd",
        "cellView": "form"
      },
      "execution_count": null,
      "outputs": []
    },
    {
      "cell_type": "code",
      "source": [],
      "metadata": {
        "id": "ZZb_okyLdy2y"
      },
      "execution_count": null,
      "outputs": []
    },
    {
      "cell_type": "markdown",
      "source": [
        "# Evaluate"
      ],
      "metadata": {
        "id": "pvB8ZzYfC0_X"
      }
    },
    {
      "cell_type": "code",
      "source": [
        "#@title Read satellite model results\n",
        "sat_preds = pd.read_csv(f'{HEAT_DATA_PATH}/yield_predictions/satellite_all_stage_cdl_adj.csv')\n",
        "\n",
        "yield_dl_dir = f'{DL_DATA_PATH}/bagging/'\n",
        "dl_preds = pd.read_csv(f'{yield_dl_dir}/pretrain_3_temperature2.csv')\n",
        "\n",
        "sat_preds = sat_preds.merge(dl_preds[['fips', 'year']])\n",
        "get_rmse(sat_preds['log_yield'], sat_preds['pred']), \\\n",
        "get_corr(sat_preds['log_yield'], sat_preds['pred'])\n",
        "\n",
        "dl_preds = dl_preds.merge(sat_preds[['fips', 'year']])\n",
        "get_rmse(dl_preds['log_yield'], dl_preds['pred']), \\\n",
        "get_corr(dl_preds['log_yield'], dl_preds['pred'])"
      ],
      "metadata": {
        "id": "pk_W5crHRGSU",
        "colab": {
          "base_uri": "https://localhost:8080/"
        },
        "outputId": "d9d0506e-f03d-4d03-a755-136433ca593c",
        "cellView": "form"
      },
      "execution_count": null,
      "outputs": [
        {
          "output_type": "execute_result",
          "data": {
            "text/plain": [
              "(0.13430288215151912, 0.8354042481655665)"
            ]
          },
          "metadata": {},
          "execution_count": 44
        }
      ]
    },
    {
      "cell_type": "code",
      "source": [
        "#@title Read linear model results\n",
        "yield_lm_dir = f'{HEAT_DATA_PATH}/yield_predictions/'\n",
        "\n",
        "lm_baseline_cv = pd.read_csv(f'{yield_lm_dir}/baseline_preds_31_states.csv')\n",
        "lm_march_cv = pd.read_csv(f'{yield_lm_dir}/march_through_aug_31_states.csv')\n",
        "lm_april_cv = pd.read_csv(f'{yield_lm_dir}/april_through_sept_31_states.csv')\n",
        "lm_doy_season_cv = pd.read_csv(f'{yield_lm_dir}/doy_full_season_31_states.csv')\n",
        "\n",
        "lm_baseline_test = pd.read_csv(f'{yield_lm_dir}/baseline_test_period.csv')\n",
        "lm_march_test = pd.read_csv(f'{yield_lm_dir}/march_test_period.csv')\n",
        "lm_april_test = pd.read_csv(f'{yield_lm_dir}/april_test_period.csv')\n",
        "lm_doy_season_test = pd.read_csv(f'{yield_lm_dir}/doy_season_test_period.csv')\n",
        "\n",
        "satellite_lm = pd.read_csv(f'{yield_lm_dir}/satellite_all_stage_cdl_adj.csv')\n"
      ],
      "metadata": {
        "id": "E3UM5Qo7CtLX",
        "cellView": "form"
      },
      "execution_count": null,
      "outputs": []
    },
    {
      "cell_type": "code",
      "source": [],
      "metadata": {
        "id": "h_eLnvHQSjkI"
      },
      "execution_count": null,
      "outputs": []
    },
    {
      "cell_type": "code",
      "source": [
        "#@title Read DL model results\n",
        "yield_dl_dir = f'{DL_DATA_PATH}/bagging/'\n",
        "\n",
        "nn_baseline = pd.read_csv(f'{yield_dl_dir}/baseline_nn.csv')\n",
        "cnn_dday = pd.read_csv(f'{yield_dl_dir}/basic_cnn_dday.csv')\n",
        "cnn_temp = pd.read_csv(f'{yield_dl_dir}/basic_cnn_temperature2.csv')\n",
        "lstm_dday = pd.read_csv(f'{yield_dl_dir}/basic_lstm_dday.csv')\n",
        "lstm_temp = pd.read_csv(f'{yield_dl_dir}/basic_lstm_temperature2.csv')\n",
        "hybrid_dday = pd.read_csv(f'{yield_dl_dir}/hybrid_lstm_dday.csv')\n",
        "hybrid_temp = pd.read_csv(f'{yield_dl_dir}/hybrid_lstm_temperature.csv')\n",
        "# seg_dday = pd.read_csv(f'{yield_dl_dir}/segmented_cnn_dday.csv')\n",
        "# seg_cnn_temp = pd.read_csv(f'{yield_dl_dir}/segmented_cnn_temperature.csv')\n",
        "# seg_lstm_dday = pd.read_csv(f'{yield_dl_dir}/segmented_lstm_dday.csv')\n",
        "# seg_lstm_temp = pd.read_csv(f'{yield_dl_dir}/segmented_lstm_temperature.csv')\n",
        "# seg_lstm2_dday = pd.read_csv(f'{yield_dl_dir}/segmented_lstm2_dday.csv')\n",
        "hybrid_temp0 = pd.read_csv(f'{yield_dl_dir}/hybrid_lstm_0_temperature.csv')\n",
        "hybrid_temp1 = pd.read_csv(f'{yield_dl_dir}/hybrid_lstm_1_temperature.csv')\n",
        "hybrid_temp2 = pd.read_csv(f'{yield_dl_dir}/hybrid_lstm_2_temperature.csv')\n",
        "hybrid_temp3 = pd.read_csv(f'{yield_dl_dir}/hybrid_lstm_3_temperature.csv')\n",
        "seg_lstm_temp = pd.read_csv(f'{yield_dl_dir}/segmented_lstm2_temperature.csv')\n",
        "\n",
        "pretrain_temp0 = pd.read_csv(f'{yield_dl_dir}/pretrain_0_temperature.csv')\n",
        "pretrain_temp1 = pd.read_csv(f'{yield_dl_dir}/pretrain_1_temperature.csv')\n",
        "pretrain_temp3 = pd.read_csv(f'{yield_dl_dir}/pretrain_3_temperature.csv')\n",
        "pretrain_temp3_unnorm = pd.read_csv(f'{yield_dl_dir}/pretrain_3_temperature2.csv')\n",
        "\n",
        "eval_sample = cnn_dday[['fips', 'year']]\n"
      ],
      "metadata": {
        "id": "VvGLaQ8JC3dz",
        "cellView": "form"
      },
      "execution_count": null,
      "outputs": []
    },
    {
      "cell_type": "code",
      "source": [
        "#@title Get model performance\n",
        "eval = [('Baseline CV', lm_baseline_cv[lm_baseline_cv['year'] >= 2017]),\n",
        "        ('March CV', lm_march_cv[lm_march_cv['year'] >= 2017]),\n",
        "        ('April CV', lm_april_cv[lm_april_cv['year'] >= 2017]),\n",
        "        ('DOY season CV', lm_doy_season_cv[lm_doy_season_cv['year'] >= 2017]),\n",
        "        ('\\nBaseline test', lm_baseline_test),\n",
        "        ('March test', lm_march_test),\n",
        "        ('April test', lm_april_test),\n",
        "        ('DOY season test', lm_doy_season_test),\n",
        "        ('\\nANN, no weather', nn_baseline),\n",
        "        ('CNN, temperature', cnn_temp),\n",
        "        ('LSTM, temperature', lstm_temp),\n",
        "        ('Hybrid LSTM, temperature', hybrid_temp),\n",
        "        ('\\nSegmented LSTM, temperature', seg_lstm_temp),\n",
        "        ('Hybrid LSTM, temperature 0', hybrid_temp0),\n",
        "        ('Hybrid LSTM, temperature 1', hybrid_temp1),\n",
        "        ('Hybrid LSTM, temperature 2', hybrid_temp2),\n",
        "        ('Hybrid LSTM, temperature 3', hybrid_temp3),\n",
        "        ('\\nPretrain, hybrid LSTM 0', pretrain_temp0),\n",
        "        ('Pretrain, hybrid LSTM 1', pretrain_temp1),\n",
        "        ('Pretrain, hybrid LSTM 3', pretrain_temp3),\n",
        "        ('Pretrain, hybrid LSTM 3, unnormalized', pretrain_temp3_unnorm),\n",
        "        ('\\nSatellite LM', satellite_lm.merge(pretrain_temp3_unnorm[['fips', 'year']])),\n",
        "        ]\n",
        "\n",
        "# Toggle to get results for all or satellite sample only\n",
        "# eval_sample = cnn_dday[['fips', 'year']]\n",
        "eval_sample = satellite_lm[['fips', 'year']].merge(cnn_dday[['fips', 'year']])\n",
        "for name, df in eval:\n",
        "    quick_summarize(df.merge(eval_sample), name)\n"
      ],
      "metadata": {
        "colab": {
          "base_uri": "https://localhost:8080/"
        },
        "id": "gdC_-BBCC3ak",
        "outputId": "daf38425-814f-47ca-a5e6-d3334c403c7a",
        "cellView": "form"
      },
      "execution_count": null,
      "outputs": [
        {
          "output_type": "stream",
          "name": "stdout",
          "text": [
            "Baseline CV 6268 0.150454 0.625\n",
            "March CV 6268 0.149825 0.634\n",
            "April CV 6268 0.151817 0.624\n",
            "DOY season CV 6268 0.146531 0.645\n",
            "\n",
            "Baseline test 6268 0.208261 0.384\n",
            "March test 6268 0.202392 0.367\n",
            "April test 6268 0.216045 0.309\n",
            "DOY season test 6268 0.209891 0.335\n",
            "\n",
            "ANN, no weather 6268 0.158322 0.621\n",
            "CNN, temperature 6268 0.13786 0.711\n",
            "LSTM, temperature 6268 0.158066 0.668\n",
            "Hybrid LSTM, temperature 6268 0.132371 0.702\n",
            "\n",
            "Segmented LSTM, temperature 6268 0.137336 0.69\n",
            "Hybrid LSTM, temperature 0 6268 0.134929 0.689\n",
            "Hybrid LSTM, temperature 1 6268 0.140933 0.674\n",
            "Hybrid LSTM, temperature 2 6268 0.137691 0.69\n",
            "Hybrid LSTM, temperature 3 6268 0.135513 0.692\n",
            "\n",
            "Pretrain, hybrid LSTM 0 6268 0.151769 0.614\n",
            "Pretrain, hybrid LSTM 1 6268 0.138522 0.68\n",
            "Pretrain, hybrid LSTM 3 6268 0.134407 0.705\n",
            "Pretrain, hybrid LSTM 3, unnormalized 6268 0.134303 0.698\n",
            "\n",
            "Satellite LM 6268 0.139124 0.687\n"
          ]
        }
      ]
    },
    {
      "cell_type": "code",
      "source": [],
      "metadata": {
        "id": "d12WuntAcVoG"
      },
      "execution_count": null,
      "outputs": []
    },
    {
      "cell_type": "code",
      "source": [
        "#@title Check that results look reasonable\n",
        "from plotly import subplots\n",
        "\n",
        "lm_df = lm_doy_season_cv[lm_doy_season_cv['year'] >= 2017]\n",
        "lm_rmse = round(get_rmse(lm_df['log_yield'], lm_df['pred']), 3)\n",
        "lm_corr = round(get_corr(lm_df['log_yield'], lm_df['pred']), 3)\n",
        "dl_df = hybrid_dday[hybrid_dday['year'] >= 2017]\n",
        "dl_rmse = round(get_rmse(dl_df['log_yield'], dl_df['pred']), 3)\n",
        "dl_corr = round(get_corr(dl_df['log_yield'], dl_df['pred']), 3)\n",
        "\n",
        "fig = plotly.subplots.make_subplots(rows=1, cols=2, subplot_titles=\n",
        "    [f'Best LM: RMSE={lm_rmse}, R={lm_corr}', f'Best DL: RMSE={dl_rmse}, R={dl_corr}'])\n",
        "\n",
        "fig.add_trace(go.Scatter(\n",
        "    x=lm_df['log_yield'], y=lm_df['pred'], mode='markers', showlegend=False), row=1, col=1)\n",
        "\n",
        "fig.add_trace(go.Scatter(\n",
        "    x=dl_df['log_yield'], y=dl_df['pred'], mode='markers', showlegend=False), row=1, col=2)\n",
        "\n",
        "fig.update_layout(height=500, width=1000)\n",
        "# plotly.io.write_image(fig, f'{FIG_PATH}/{fname}.png', scale=2)\n",
        "fig.show()"
      ],
      "metadata": {
        "id": "bSsLUQrwWL-P",
        "cellView": "form"
      },
      "execution_count": null,
      "outputs": []
    },
    {
      "cell_type": "code",
      "source": [
        "#@title Get percent change in performance\n",
        "lm_df = lm_doy_season_cv[lm_doy_season_cv['year'] >= 2017].merge(eval_sample)\n",
        "best_lm_corr = get_corr(lm_df['pred'], lm_df['log_yield'])\n",
        "cnn_dday_corr = get_corr(cnn_dday['pred'], cnn_dday['log_yield'])\n",
        "cnn_temp_corr = get_corr(cnn_temp['pred'], cnn_temp['log_yield'])\n",
        "\n",
        "best_lm_rmse = get_rmse(lm_df['pred'], lm_df['log_yield'])\n",
        "cnn_dday_rmse = get_rmse(cnn_dday['pred'], cnn_dday['log_yield'])\n",
        "cnn_temp_rmse = get_rmse(cnn_temp['pred'], cnn_temp['log_yield'])\n",
        "\n",
        "print((cnn_dday_rmse - best_lm_rmse) / best_lm_rmse * 100)\n",
        "print((cnn_dday_corr - best_lm_corr) / best_lm_corr * 100)\n",
        "print((cnn_temp_rmse - best_lm_rmse) / best_lm_rmse * 100)\n",
        "print((cnn_temp_corr - best_lm_corr) / best_lm_corr * 100)\n"
      ],
      "metadata": {
        "id": "gWHKLHISh7gk",
        "cellView": "form"
      },
      "execution_count": null,
      "outputs": []
    },
    {
      "cell_type": "code",
      "source": [
        "#@title Compare results to Khaki et al\n",
        "# Indiana, Illinois, Iowa, Minnesota, Missouri, Nebraska, Kansas, North Dakota,\n",
        "# South Dakota, Ohio, Kentucky, Michigan, and Wisconsin\n",
        "states = [18, 17, 19, 27, 29, 31, 20, 38, 46, 39, 21, 26, 55]\n",
        "pretrain_temp3_unnorm['state'] = pretrain_temp3_unnorm['fips'].apply(\n",
        "    lambda x: int(str(x).zfill(5)[:2]))\n",
        "df = pretrain_temp3_unnorm[pretrain_temp3_unnorm['state'].isin(states)]\n",
        "\n",
        "for y in [2017, 2018]:\n",
        "    ydf = df[df['year'] == y]\n",
        "    y_rmse = get_rmse(np.exp(ydf['log_yield']), np.exp(ydf['pred']))\n",
        "    y_r = get_corr(np.exp(ydf['log_yield']), np.exp(ydf['pred']))\n",
        "    print(y, round(y_rmse, 2), round(y_r * 100, 2))\n",
        "\n",
        "# Khaki et al:\n",
        "# 15.74 88.24\n",
        "# 17.64 87.82\n",
        "\n",
        "# Me:\n",
        "# 2017 18.65 86.26\n",
        "# 2018 17.42 85.7"
      ],
      "metadata": {
        "id": "IHC7C-YMuVPy",
        "cellView": "form"
      },
      "execution_count": null,
      "outputs": []
    },
    {
      "cell_type": "code",
      "source": [],
      "metadata": {
        "id": "sXi5qcnruVEu"
      },
      "execution_count": null,
      "outputs": []
    },
    {
      "cell_type": "markdown",
      "source": [
        "# Process results"
      ],
      "metadata": {
        "id": "JJsrL3jXEQY4"
      }
    },
    {
      "cell_type": "code",
      "source": [
        "#@title Process grid search output\n",
        "def process_grid_search(foldername):\n",
        "    dir = f'{DL_DATA_PATH}/grid_search/{foldername}'\n",
        "    df = pd.concat(\n",
        "        [pd.read_csv(f'{dir}/{f}') for f in os.listdir(dir)]).drop_duplicates(subset='param_combo')\n",
        "    df.to_csv(f'{dir}.csv', index=False)\n",
        "    return df\n",
        "\n",
        "df = process_grid_search('pretrain_3_temperature')\n"
      ],
      "metadata": {
        "id": "sKUDDOw9cvPB",
        "cellView": "form"
      },
      "execution_count": null,
      "outputs": []
    },
    {
      "cell_type": "code",
      "source": [
        "#@title Process bagging output\n",
        "N_BAGGING_FOLDS = 100\n",
        "\n",
        "def read_bagging_preds(dir):\n",
        "    pred_files = os.listdir(dir)\n",
        "    assert len(set(pred_files)) == N_BAGGING_FOLDS\n",
        "    preds_full = pd.concat([pd.read_csv(f'{dir}/{i}.csv').assign(iter=i)\n",
        "                                for i in range(N_BAGGING_FOLDS)])\n",
        "    preds = preds_full.groupby(['fips', 'year']).mean().reset_index().drop('iter', axis=1)\n",
        "    return preds, preds_full\n",
        "\n",
        "def get_iter_performance(df):\n",
        "    def get_iter_stat(i, fn):\n",
        "        idf = df[df['iter'] <= i].groupby(['fips', 'year']).mean().reset_index()\n",
        "        return fn(idf['log_yield'], idf['pred'])\n",
        "\n",
        "    return pd.DataFrame(dict(r=[get_iter_stat(i, get_corr) for i in range(N_BAGGING_FOLDS)],\n",
        "                             rmse=[get_iter_stat( i, get_rmse) for i in range(N_BAGGING_FOLDS)],\n",
        "                             iter=[i for i in range(N_BAGGING_FOLDS)]))\n",
        "\n",
        "def process_bagging_results(model_str, model_dir, out_str=None):\n",
        "    if out_str is None:\n",
        "        out_str = model_str\n",
        "    preds, preds_full = read_bagging_preds(f'{model_dir}/{model_str}')\n",
        "\n",
        "    iter_perf = get_iter_performance(preds_full)\n",
        "    preds.to_csv(f'{DL_DATA_PATH}/bagging/{out_str}.csv', index=False)\n",
        "    iter_perf.to_csv(f'{DL_DATA_PATH}/bagging/{out_str}_iter_performance.csv', index=False)\n",
        "\n",
        "dl_dir = f'{DL_DATA_PATH}/bagging/'\n",
        "lm_dir = f'{HEAT_DATA_PATH}/yield_predictions/'\n",
        "\n",
        "process_bagging_results('basic_cnn_temperature2', dl_dir)\n"
      ],
      "metadata": {
        "id": "ZLGJZY0aEPjh",
        "cellView": "form"
      },
      "execution_count": null,
      "outputs": []
    },
    {
      "cell_type": "code",
      "source": [],
      "metadata": {
        "id": "TjsBZlC_igfP"
      },
      "execution_count": null,
      "outputs": []
    }
  ]
}